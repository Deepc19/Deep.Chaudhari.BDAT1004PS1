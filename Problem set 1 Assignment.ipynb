{
 "cells": [
  {
   "cell_type": "markdown",
   "id": "737b06b1",
   "metadata": {},
   "source": [
    "Question 6"
   ]
  },
  {
   "cell_type": "code",
   "execution_count": 4,
   "id": "ac917d44",
   "metadata": {},
   "outputs": [
    {
     "name": "stdout",
     "output_type": "stream",
     "text": [
      "Enter any stringCAR\n",
      "arcay\n"
     ]
    }
   ],
   "source": [
    "def pig():\n",
    "    car = input(\"Enter any string\")\n",
    "    lower_car = car.lower()\n",
    "    letter = lower_car[0]\n",
    "    if letter in 'aeiou':\n",
    "        return car + \"way\"\n",
    "    else:\n",
    "        return lower_car[1:] + letter + \"ay\"\n",
    "\n",
    "print(pig())"
   ]
  },
  {
   "cell_type": "markdown",
   "id": "60b45257",
   "metadata": {},
   "source": [
    "Question 7"
   ]
  },
  {
   "cell_type": "code",
   "execution_count": 5,
   "id": "d930c310",
   "metadata": {},
   "outputs": [
    {
     "name": "stdout",
     "output_type": "stream",
     "text": [
      "There are 15 patients of blood type A. \n",
      "There is 1 patients of blood type B. \n",
      "There are 13 patients of blood type AB. \n",
      "There are 15 patients of blood type O. \n",
      "There are 0 patients of blood type OO. \n"
     ]
    }
   ],
   "source": [
    "in_file = open('bloodtype1.txt', 'r')\n",
    "\n",
    "lst = in_file.read().split()  #used the function of name split to convert every element of list\n",
    "\n",
    "\n",
    "a1=0\n",
    "a2=0\n",
    "a3=0\n",
    "a4=0\n",
    "a5=0\n",
    "for char in lst:\n",
    "    if(char == 'A'):\n",
    "        a1+=1\n",
    "    elif(char =='B'):\n",
    "        a2+=1\n",
    "    elif(char =='AB'):\n",
    "        a3+=1\n",
    "    elif(char =='O'):\n",
    "        a4+=1\n",
    "    elif(char =='OO'):\n",
    "        a5+=1\n",
    "\n",
    "print(\"There are {} patients of blood type A. \".format(a1))\n",
    "print(\"There is {} patients of blood type B. \".format(a2))\n",
    "print(\"There are {} patients of blood type AB. \".format(a3))\n",
    "print(\"There are {} patients of blood type O. \".format(a4))\n",
    "print(\"There are {} patients of blood type OO. \".format(a5))"
   ]
  },
  {
   "cell_type": "markdown",
   "id": "ef6eabe1",
   "metadata": {},
   "source": [
    "Question 8"
   ]
  },
  {
   "cell_type": "code",
   "execution_count": 11,
   "id": "c680805b",
   "metadata": {},
   "outputs": [
    {
     "name": "stdout",
     "output_type": "stream",
     "text": [
      "122.96544\n",
      "103.45157\n"
     ]
    }
   ],
   "source": [
    "def curconv(Currency,Amount):\n",
    "    openfile=open('currencies.txt',\"r\")\n",
    "    readfile=openfile.readlines()\n",
    "    #print(readfile)\n",
    "    for line in readfile:\n",
    "        #print(line)\n",
    "        spl=line.split('\\t')\n",
    "        if(Currency==spl[0]):\n",
    "            Currency=float(spl[1])*Amount\n",
    "            return Currency\n",
    "       \n",
    "\n",
    "    \n",
    "#print('AUD,100')\n",
    "print(curconv('EUR',100))\n",
    "print(curconv('AUD',100))"
   ]
  },
  {
   "cell_type": "markdown",
   "id": "24bf0d68",
   "metadata": {},
   "source": [
    "Question 9"
   ]
  },
  {
   "cell_type": "code",
   "execution_count": 12,
   "id": "39b682c4",
   "metadata": {},
   "outputs": [
    {
     "ename": "TypeError",
     "evalue": "unsupported operand type(s) for +: 'int' and 'str'",
     "output_type": "error",
     "traceback": [
      "\u001b[1;31m---------------------------------------------------------------------------\u001b[0m",
      "\u001b[1;31mTypeError\u001b[0m                                 Traceback (most recent call last)",
      "\u001b[1;32m~\\AppData\\Local\\Temp\\ipykernel_27184\\2956863412.py\u001b[0m in \u001b[0;36m<module>\u001b[1;34m\u001b[0m\n\u001b[1;32m----> 1\u001b[1;33m \u001b[0mprint\u001b[0m\u001b[1;33m(\u001b[0m\u001b[1;36m10\u001b[0m\u001b[1;33m+\u001b[0m\u001b[1;34m\"Deep\"\u001b[0m\u001b[1;33m)\u001b[0m\u001b[1;33m\u001b[0m\u001b[1;33m\u001b[0m\u001b[0m\n\u001b[0m",
      "\u001b[1;31mTypeError\u001b[0m: unsupported operand type(s) for +: 'int' and 'str'"
     ]
    }
   ],
   "source": [
    "print(10+\"Deep\")"
   ]
  },
  {
   "cell_type": "code",
   "execution_count": 13,
   "id": "7fdff3a9",
   "metadata": {},
   "outputs": [
    {
     "ename": "IndexError",
     "evalue": "list index out of range",
     "output_type": "error",
     "traceback": [
      "\u001b[1;31m---------------------------------------------------------------------------\u001b[0m",
      "\u001b[1;31mIndexError\u001b[0m                                Traceback (most recent call last)",
      "\u001b[1;32m~\\AppData\\Local\\Temp\\ipykernel_27184\\1368354074.py\u001b[0m in \u001b[0;36m<module>\u001b[1;34m\u001b[0m\n\u001b[0;32m      1\u001b[0m \u001b[0ma\u001b[0m\u001b[1;33m=\u001b[0m\u001b[1;33m[\u001b[0m\u001b[1;36m1\u001b[0m\u001b[1;33m,\u001b[0m\u001b[1;36m2\u001b[0m\u001b[1;33m,\u001b[0m\u001b[1;36m3\u001b[0m\u001b[1;33m]\u001b[0m\u001b[1;33m\u001b[0m\u001b[1;33m\u001b[0m\u001b[0m\n\u001b[1;32m----> 2\u001b[1;33m \u001b[0mprint\u001b[0m\u001b[1;33m(\u001b[0m\u001b[0ma\u001b[0m\u001b[1;33m[\u001b[0m\u001b[1;36m4\u001b[0m\u001b[1;33m]\u001b[0m\u001b[1;33m)\u001b[0m\u001b[1;33m\u001b[0m\u001b[1;33m\u001b[0m\u001b[0m\n\u001b[0m",
      "\u001b[1;31mIndexError\u001b[0m: list index out of range"
     ]
    }
   ],
   "source": [
    "a=[1,2,3]\n",
    "print(a[4])"
   ]
  },
  {
   "cell_type": "code",
   "execution_count": 14,
   "id": "f98fd8a5",
   "metadata": {},
   "outputs": [
    {
     "ename": "ValueError",
     "evalue": "list.remove(x): x not in list",
     "output_type": "error",
     "traceback": [
      "\u001b[1;31m---------------------------------------------------------------------------\u001b[0m",
      "\u001b[1;31mValueError\u001b[0m                                Traceback (most recent call last)",
      "\u001b[1;32m~\\AppData\\Local\\Temp\\ipykernel_27184\\2509476361.py\u001b[0m in \u001b[0;36m<module>\u001b[1;34m\u001b[0m\n\u001b[0;32m      1\u001b[0m \u001b[0mcontinants\u001b[0m\u001b[1;33m=\u001b[0m\u001b[1;33m[\u001b[0m\u001b[1;34m\"asia\"\u001b[0m\u001b[1;33m]\u001b[0m\u001b[1;33m\u001b[0m\u001b[1;33m\u001b[0m\u001b[0m\n\u001b[1;32m----> 2\u001b[1;33m \u001b[0mcontinants\u001b[0m\u001b[1;33m.\u001b[0m\u001b[0mremove\u001b[0m\u001b[1;33m(\u001b[0m\u001b[1;34m\"south africa\"\u001b[0m\u001b[1;33m)\u001b[0m\u001b[1;33m\u001b[0m\u001b[1;33m\u001b[0m\u001b[0m\n\u001b[0m",
      "\u001b[1;31mValueError\u001b[0m: list.remove(x): x not in list"
     ]
    }
   ],
   "source": [
    "continants=[\"asia\"]\n",
    "continants.remove(\"south africa\")"
   ]
  },
  {
   "cell_type": "code",
   "execution_count": 15,
   "id": "7ca87b13",
   "metadata": {},
   "outputs": [
    {
     "ename": "NameError",
     "evalue": "name 'Deep' is not defined",
     "output_type": "error",
     "traceback": [
      "\u001b[1;31m---------------------------------------------------------------------------\u001b[0m",
      "\u001b[1;31mNameError\u001b[0m                                 Traceback (most recent call last)",
      "\u001b[1;32m~\\AppData\\Local\\Temp\\ipykernel_27184\\2023622036.py\u001b[0m in \u001b[0;36m<module>\u001b[1;34m\u001b[0m\n\u001b[1;32m----> 1\u001b[1;33m \u001b[0mprint\u001b[0m\u001b[1;33m(\u001b[0m\u001b[0mDeep\u001b[0m\u001b[1;33m[\u001b[0m\u001b[1;36m10\u001b[0m\u001b[1;33m]\u001b[0m\u001b[1;33m)\u001b[0m\u001b[1;33m\u001b[0m\u001b[1;33m\u001b[0m\u001b[0m\n\u001b[0m",
      "\u001b[1;31mNameError\u001b[0m: name 'Deep' is not defined"
     ]
    }
   ],
   "source": [
    "print(Deep[10])"
   ]
  },
  {
   "cell_type": "code",
   "execution_count": 16,
   "id": "5560b0af",
   "metadata": {},
   "outputs": [
    {
     "ename": "FileNotFoundError",
     "evalue": "[Errno 2] No such file or directory: 'h.txt'",
     "output_type": "error",
     "traceback": [
      "\u001b[1;31m---------------------------------------------------------------------------\u001b[0m",
      "\u001b[1;31mFileNotFoundError\u001b[0m                         Traceback (most recent call last)",
      "\u001b[1;32m~\\AppData\\Local\\Temp\\ipykernel_27184\\1044960763.py\u001b[0m in \u001b[0;36m<module>\u001b[1;34m\u001b[0m\n\u001b[1;32m----> 1\u001b[1;33m \u001b[0mprint\u001b[0m\u001b[1;33m(\u001b[0m\u001b[0mopen\u001b[0m\u001b[1;33m(\u001b[0m\u001b[1;34m\"h.txt\"\u001b[0m\u001b[1;33m)\u001b[0m\u001b[1;33m)\u001b[0m\u001b[1;33m\u001b[0m\u001b[1;33m\u001b[0m\u001b[0m\n\u001b[0m",
      "\u001b[1;31mFileNotFoundError\u001b[0m: [Errno 2] No such file or directory: 'h.txt'"
     ]
    }
   ],
   "source": [
    "print(open(\"h.txt\"))"
   ]
  },
  {
   "cell_type": "markdown",
   "id": "0afdbe86",
   "metadata": {},
   "source": [
    "Question 10"
   ]
  },
  {
   "cell_type": "code",
   "execution_count": 20,
   "id": "0bfaa9e9",
   "metadata": {},
   "outputs": [
    {
     "data": {
      "text/plain": [
       "[1, 0, 0, 0, 0, 0, 0, 0, 0, 0, 0, 0, 0, 0, 0, 0, 0, 0, 0, 0, 0, 0, 0, 0, 0, 0]"
      ]
     },
     "execution_count": 20,
     "metadata": {},
     "output_type": "execute_result"
    }
   ],
   "source": [
    "def frequencies(text):\n",
    "    letters = 'abcdefghijklmnopqrstuvwxyz' \n",
    "    freq_list = [0] * 26 \n",
    "    for char in text.lower(): \n",
    "        if char in letters: \n",
    "            freq_list[letters.index(char)] += 1\n",
    "            return freq_list\n",
    "frequencies('A car')"
   ]
  },
  {
   "cell_type": "code",
   "execution_count": null,
   "id": "d9fc821a",
   "metadata": {},
   "outputs": [],
   "source": []
  }
 ],
 "metadata": {
  "kernelspec": {
   "display_name": "Python 3 (ipykernel)",
   "language": "python",
   "name": "python3"
  },
  "language_info": {
   "codemirror_mode": {
    "name": "ipython",
    "version": 3
   },
   "file_extension": ".py",
   "mimetype": "text/x-python",
   "name": "python",
   "nbconvert_exporter": "python",
   "pygments_lexer": "ipython3",
   "version": "3.9.13"
  }
 },
 "nbformat": 4,
 "nbformat_minor": 5
}
